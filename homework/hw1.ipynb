{
  "cells": [
    {
      "cell_type": "markdown",
      "id": "0",
      "metadata": {
        "id": "0"
      },
      "source": [
        "# HW1 - Base Python"
      ]
    },
    {
      "cell_type": "markdown",
      "id": "1",
      "metadata": {
        "id": "1"
      },
      "source": [
        "See Canvas for details on how to complete and submit this assignment."
      ]
    },
    {
      "cell_type": "markdown",
      "id": "2",
      "metadata": {
        "id": "2"
      },
      "source": [
        "## Introduction"
      ]
    },
    {
      "cell_type": "markdown",
      "id": "3",
      "metadata": {
        "id": "3"
      },
      "source": [
        "This assignment bridges foundational Python concepts with the data manipulation skills you'll need throughout the course. You'll work with nested data structures, implement string processing algorithms, clean messy data, and recreate built-in Python functionality from scratch - all essential skills for data science.\n",
        "\n",
        "### Learning Objectives\n",
        "\n",
        "- Become familiar with professional code styling guidelines and use them to improve the readability and maintainability of your code\n",
        "- Compare and contrast different data structures (lists vs. dictionaries) through hands-on implementation\n",
        "- Practice test-driven development using assertions to verify code correctness\n",
        "- Transform messy, real-world data into clean, analyzable formats\n",
        "- Progress from explicit loops to Pythonic idioms that you'll use with pandas and numpy\n",
        "\n",
        "The problems follow a deliberate progression from simple text processing to complex data transformations. You'll implement solutions using basic constructs first, then explore how Python's built-in tools and methods can simplify your code. This approach mirrors real-world development, where understanding the problem deeply leads to better solution choices.\n",
        "\n",
        "Each function you write will be tested automatically, introducing the testing practices essential for reliable data analysis. By the end, you'll have practical experience with the exact patterns you'll use when cleaning datasets, aggregating results, and transforming data structures throughout your data science journey.\n",
        "\n",
        "It should take 3-5 hours to complete, toward the higher side for Graduate Students.\n",
        "\n",
        "### Generative AI Allowance\n",
        "\n",
        "You may use GenAI tools for brainstorming, explanations, and code sketches if you disclose it, understand it, and validate it. Your submission must represent your own work and you are solely responsible for its correctness.\n",
        "\n",
        "### Scoring\n",
        "\n",
        "- Reading: 30pts, 15 each\n",
        "- Coding: 60pts, 15 each\n",
        "- Reflection: 10pts"
      ]
    },
    {
      "cell_type": "markdown",
      "id": "4",
      "metadata": {
        "id": "4"
      },
      "source": [
        "## Reading"
      ]
    },
    {
      "cell_type": "markdown",
      "id": "5",
      "metadata": {
        "id": "5"
      },
      "source": [
        "### Markdown Guide"
      ]
    },
    {
      "cell_type": "markdown",
      "id": "6",
      "metadata": {
        "id": "6"
      },
      "source": [
        "Complete the [Markdown Tutorial](https://www.markdowntutorial.com) and review the [Basic Syntax section of Markdown Guide](https://www.markdownguide.org/basic-syntax/).\n",
        "\n",
        "Add a text / markdown cell below this one and give some brief insights from that experience. Include a numbered list, some text formatting (e.g. bold and/or italics), and a level 3 header in that, along with any other formatting you would like to include."
      ]
    },
    {
      "cell_type": "markdown",
      "source": [
        "### USING MARKDOWN FOR MY WRITINGS\n",
        "\n",
        "Using markdown for my writIngs will enable me to **easily share** with;  \n",
        "1. Computers\n",
        "   * Desktop computers\n",
        "   * Personal computers\n",
        "2. Mobile phones\n",
        "3. People\n",
        "\n",
        "Both the [_Markdown Tutorial_](https://www.google.com/url?q=https%3A%2F%2Fwww.markdownguide.org%2Fbasic-syntax%2F)  and  [_Basic Syntax section of Markdown Guide_]( https://www.google.com/url?q=https%3A%2F%2Fwww.markdownguide.org%2Fbasic-syntax%2F) gave great ways through which I can format my writings.\n",
        "\n",
        "* I got to know how to **Bold** or _Italize_ words considering the position\n",
        "* I got to understand images could be added easily to my writings unlike other word processing applications\n",
        "\n",
        "\n"
      ],
      "metadata": {
        "id": "dukT8Xdx4OMT"
      },
      "id": "dukT8Xdx4OMT"
    },
    {
      "cell_type": "markdown",
      "id": "7",
      "metadata": {
        "id": "7"
      },
      "source": [
        "### Python Standards"
      ]
    },
    {
      "cell_type": "markdown",
      "id": "8",
      "metadata": {
        "id": "8"
      },
      "source": [
        "Review [PEP 8, the Style Guide for Python](https://peps.python.org/pep-0008/), focusing on the elements that are familiar to you and most applicable in your current stage development as a Python user.\n",
        "\n",
        "Add a text / markdown cell below this one to share your main takeaways. You might address some of the following issues and/or entirely different topics.\n",
        "\n",
        "- Why is code styling important for collaboration and maintainability?\n",
        "- Which of the PEP 8 recommendations felt the most applicable to you?\n",
        "- Which do you plan to implement?\n",
        "- Which were the most surprising?\n",
        "\n",
        "**Graduate students only:** Also review [Google's Python Style Guide](https://google.github.io/styleguide/pyguide.html) and consider it in your response."
      ]
    },
    {
      "cell_type": "markdown",
      "source": [
        "### CODE STYLING\n",
        "Consistent code styling improves **collaboration** by making it easier for people working together to be able to read and understand each others work. It also enhances **maintainability**:\n",
        "* Identifying errors is easier when everthing is well organized\n",
        "* With proper indentation, spacing, naming and others, fixing bugs is much easier.\n",
        "\n",
        "#### APPLICABLE RECOMMENDATIONS\n",
        "**1. Whitespaces:** Avoiding spaces within parentheses, braces and brackets.\n",
        "\n",
        "**2. Identation:** Using both tabs and spaces in a code should be avoided. Usually 4 spaces of indentation\n",
        "\n",
        "**3. Name convention:** Constants should all be in capital letters with underscore separating them. This will be helful to me in collabrative coding since it will specifically tell me which aspects of the code that can be changed.\n",
        "\n",
        "**4. Block and Inline comments:** These will help me better understand what my code is all about and specifically what a line of code represents.\n",
        "\n",
        "**5. TODO Comment:** I can use this type of comment when my code temporary or not good enough.\n",
        "\n",
        "**6. Lint:** The pylint tool will be a good tool for me in my coding, detecting bugs and styling problems is simple with it.\n",
        "\n",
        "_It is quite surprising that **PYTHON** is not capable to distinguish l, O and I from 0 and 1 in some font types_\n"
      ],
      "metadata": {
        "id": "i17tgdP8HczY"
      },
      "id": "i17tgdP8HczY"
    },
    {
      "cell_type": "markdown",
      "id": "9",
      "metadata": {
        "id": "9"
      },
      "source": [
        "## Coding"
      ]
    },
    {
      "cell_type": "markdown",
      "id": "10",
      "metadata": {
        "id": "10"
      },
      "source": [
        "Your code will be evaluated primarily on functionality, but basic PEP 8 compliance will be considered:\n",
        "\n",
        "- Descriptive function names using `snake_case`\n",
        "- Clear docstrings explaining function purpose\n",
        "- Meaningful variable names\n",
        "- Proper spacing around operators\n",
        "\n",
        "All solutions will be implemented as functions. This is best practice for many reasons, including testability. As you will see, with functions we can write simple tests to check the correctness of implementation. This theme will be revisited and expanded on throughout the semester."
      ]
    },
    {
      "cell_type": "markdown",
      "id": "11",
      "metadata": {
        "id": "11"
      },
      "source": [
        "### Count Letters"
      ]
    },
    {
      "cell_type": "markdown",
      "id": "12",
      "metadata": {
        "id": "12"
      },
      "source": [
        "This simple problem is designed to reintroduce Python and demonstrate:\n",
        "\n",
        "- there are many ways to solve problems in Python\n",
        "- some are better and easier than others\n",
        "- the \"hard way\" is a necessary educational tool but Python provides alternatives for a reason\n",
        "\n",
        "Write three versions of a function that takes a string and returns the number of occurrences of each letter in it:\n",
        "\n",
        "1. `count_letters_v1` - use a list of lists where each inner list is `[letter, count]`\n",
        "2. `count_letters_v2` - use a dictionary, checking if keys exist before updating\n",
        "3. `count_letters_v3` - use dictionary's `.get()` method to simplify the logic\n",
        "\n",
        "Write your functions in the cell below."
      ]
    },
    {
      "cell_type": "code",
      "execution_count": null,
      "id": "13",
      "metadata": {
        "id": "13"
      },
      "outputs": [],
      "source": [
        "def count_letters_v1(text):\n",
        "    letter_counts[]\n",
        "    for char in text:\n",
        "      if char.isalpha():\n",
        "        found = False\n",
        "        for\n",
        "\n",
        "    \"\"\"Return the count of each letter in text as a list of [letter, count]\n",
        "    Combine conditionals with a nested loop\n",
        "    String methods `lower` and `isalpha` may be helpful\n",
        "    \"\"\"\n",
        "    ...\n",
        "\n",
        "\n",
        "def count_letters_v2(text):\n",
        "    \"\"\"Return the count of each letter in text as a dictionary of letter:count pairs\n",
        "    Use a single loop and test if each key exists before creating the pair / updating the count\n",
        "    \"\"\"\n",
        "    ...\n",
        "\n",
        "\n",
        "def count_letters_v3(text):\n",
        "    \"\"\"Return the count of each letter in text as a dictionary of letter:count pairs\n",
        "    Use a single loop with the dictionary get method to construct the pairs directly\n",
        "    \"\"\"\n",
        "    ..."
      ]
    },
    {
      "cell_type": "markdown",
      "id": "14",
      "metadata": {
        "id": "14"
      },
      "source": [
        "#### Solution"
      ]
    },
    {
      "cell_type": "code",
      "execution_count": 3,
      "id": "15",
      "metadata": {
        "id": "15"
      },
      "outputs": [],
      "source": [
        "def count_letters_v1(text):\n",
        "    \"\"\"Count letters using nested lists [[letter, count], ...]\"\"\"\n",
        "    counts = []\n",
        "    for char in text.lower():\n",
        "        if char.isalpha():\n",
        "            # Search for existing entry\n",
        "            found = False\n",
        "            for entry in counts:\n",
        "                if entry[0] == char:\n",
        "                    entry[1] += 1\n",
        "                    found = True\n",
        "                    break\n",
        "            if not found:\n",
        "                counts.append([char, 1])\n",
        "    return counts\n",
        "\n",
        "\n",
        "def count_letters_v2(text):\n",
        "    \"\"\"Count letters using dictionary with if/else\"\"\"\n",
        "    counts = {}\n",
        "    for char in text.lower():\n",
        "        if char.isalpha():\n",
        "            if char in counts:\n",
        "                counts[char] += 1\n",
        "            else:\n",
        "                counts[char] = 1\n",
        "    return counts\n",
        "\n",
        "\n",
        "def count_letters_v3(text):\n",
        "    \"\"\"Count letters using dict.get()\"\"\"\n",
        "    counts = {}\n",
        "    for char in text.lower():\n",
        "        if char.isalpha():\n",
        "            counts[char] = counts.get(char, 0) + 1\n",
        "    return counts"
      ]
    },
    {
      "cell_type": "markdown",
      "id": "16",
      "metadata": {
        "id": "16"
      },
      "source": [
        "#### Tests"
      ]
    },
    {
      "cell_type": "markdown",
      "id": "17",
      "metadata": {
        "id": "17"
      },
      "source": [
        "Run the code below to test your implementation. If an error is detected, use the information provided to correct your function definition.\n",
        "\n",
        "**You must run the cell above each time you make changes to it (to create the function definition) before running these tests.**"
      ]
    },
    {
      "cell_type": "code",
      "execution_count": 4,
      "id": "18",
      "metadata": {
        "id": "18",
        "outputId": "8fe28b3b-5fe7-46fb-e423-23abf05bb4be",
        "colab": {
          "base_uri": "https://localhost:8080/"
        }
      },
      "outputs": [
        {
          "output_type": "stream",
          "name": "stdout",
          "text": [
            "All tests passed!\n"
          ]
        }
      ],
      "source": [
        "def normalize_result(result):\n",
        "    \"\"\"Helper to compare different return types\"\"\"\n",
        "    if isinstance(result, list):\n",
        "        return {item[0]: item[1] for item in result}\n",
        "    return result\n",
        "\n",
        "\n",
        "test_cases = [\n",
        "    ('Hello World', {'h': 1, 'e': 1, 'l': 3, 'o': 2, 'w': 1, 'r': 1, 'd': 1}),\n",
        "    ('AAaaa', {'a': 5}),\n",
        "    ('123!@#', {}),  # No letters\n",
        "    ('', {}),  # Empty string\n",
        "]\n",
        "\n",
        "for text, expected in test_cases:\n",
        "    assert normalize_result(count_letters_v1(text)) == expected, f\"v1 failed on '{text}'\"\n",
        "    assert count_letters_v2(text) == expected, f\"v2 failed on '{text}'\"\n",
        "    assert count_letters_v3(text) == expected, f\"v3 failed on '{text}'\"\n",
        "\n",
        "print('All tests passed!')"
      ]
    },
    {
      "cell_type": "markdown",
      "id": "19",
      "metadata": {
        "id": "19"
      },
      "source": [
        "#### Interpretation"
      ]
    },
    {
      "cell_type": "markdown",
      "id": "20",
      "metadata": {
        "id": "20"
      },
      "source": [
        "Add a text / markdown cell below to describe the progression from v1 to v3. Which method do you prefer and why? Specifically, why are dictionaries better suited for this problem than lists, and what is the advantage of `.get()`?"
      ]
    },
    {
      "cell_type": "markdown",
      "id": "21",
      "metadata": {
        "id": "21"
      },
      "source": [
        "#### Follow-Up (Graduate Students)"
      ]
    },
    {
      "cell_type": "markdown",
      "id": "22",
      "metadata": {
        "id": "22"
      },
      "source": [
        "This part is for grad students only.\n",
        "\n",
        "Implement a fourth version of the solution using [`Collections.Counter` from the standard library](https://www.geeksforgeeks.org/python/counters-in-python-set-1/). Test your implementation as you did for v1-3."
      ]
    },
    {
      "cell_type": "code",
      "execution_count": null,
      "id": "23",
      "metadata": {
        "id": "23"
      },
      "outputs": [],
      "source": [
        "from collections import Counter\n",
        "\n",
        "\n",
        "def count_letters_v4(text):\n",
        "    \"\"\"Return the count of each letter in text as a dictionary of letter:count pairs\n",
        "    Use the Collections.Counter, which was specifically designed for this common task\n",
        "    \"\"\"\n",
        "    ..."
      ]
    },
    {
      "cell_type": "markdown",
      "id": "24",
      "metadata": {
        "id": "24"
      },
      "source": [
        "#### Solution"
      ]
    },
    {
      "cell_type": "code",
      "execution_count": null,
      "id": "25",
      "metadata": {
        "id": "25"
      },
      "outputs": [],
      "source": [
        "from collections import Counter\n",
        "\n",
        "\n",
        "def count_letters_v4(text):\n",
        "    return Counter(char for char in text.lower() if char.isalpha())"
      ]
    },
    {
      "cell_type": "markdown",
      "id": "26",
      "metadata": {
        "id": "26"
      },
      "source": [
        "### Extract Valid Data"
      ]
    },
    {
      "cell_type": "markdown",
      "id": "27",
      "metadata": {
        "id": "27"
      },
      "source": [
        "Create a function, `extract_valid_data`, that takes a list of lists containing an arbitrary mix of *only* `int`, `float`, and `str` data types, along with a `max_val` number. Return a list of the unique integer values less than `max_val`, sorted in ascending order. The default value of `max_val` is 10. For example, the following function call:\n",
        "\n",
        "```python\n",
        "lols = [[1, 'a', 50], [50, 101, -5], [25, 3.14]]\n",
        "extract_valid_data(lols, max_val=100)\n",
        "```\n",
        "\n",
        "should return\n",
        "\n",
        "```python\n",
        "[-5, 1, 25, 50]\n",
        "```\n",
        "\n",
        "To better understand how default arguments are used when defining and calling Python functions, review the first part of [this Geeks for Geeks article](https://www.geeksforgeeks.org/python/default-arguments-in-python/). The second part, about mutable defaults, is very important; we will revisit this topic later in the course.\n",
        "\n",
        "You will need to use either `type` or `isinstance` to identify objects of type `int` in your solution. Consult the Python documentation or use the built-in help (e.g. `help(isinstance)`) for more information.\n",
        "\n",
        "Write your function in the cell below."
      ]
    },
    {
      "cell_type": "code",
      "execution_count": null,
      "id": "28",
      "metadata": {
        "id": "28"
      },
      "outputs": [],
      "source": [
        "def extract_valid_data(lists, max_val=10): ..."
      ]
    },
    {
      "cell_type": "markdown",
      "id": "29",
      "metadata": {
        "id": "29"
      },
      "source": [
        "#### Solution"
      ]
    },
    {
      "cell_type": "code",
      "execution_count": null,
      "id": "30",
      "metadata": {
        "id": "30"
      },
      "outputs": [],
      "source": [
        "def extract_valid_data(lists, max_val=10):\n",
        "    \"\"\"Extract unique integers less than max_val from nested lists.\"\"\"\n",
        "\n",
        "    valid_numbers = []\n",
        "\n",
        "    for sublist in lists:\n",
        "        for item in sublist:\n",
        "            # Check if item is an integer (not float) and less than max\n",
        "            if isinstance(item, int):\n",
        "                if item < max_val:\n",
        "                    if item not in valid_numbers:\n",
        "                        valid_numbers.append(item)\n",
        "\n",
        "    valid_numbers.sort()\n",
        "\n",
        "    return valid_numbers"
      ]
    },
    {
      "cell_type": "markdown",
      "id": "31",
      "metadata": {
        "id": "31"
      },
      "source": [
        "#### Tests"
      ]
    },
    {
      "cell_type": "markdown",
      "id": "32",
      "metadata": {
        "id": "32"
      },
      "source": [
        "Run the code below to test your implementation. If an error is detected, use the information provided to correct your function definition.\n",
        "\n",
        "**You must run the cell above each time you make changes to it (to create the function definition) before running these tests.**"
      ]
    },
    {
      "cell_type": "code",
      "execution_count": null,
      "id": "33",
      "metadata": {
        "id": "33"
      },
      "outputs": [],
      "source": [
        "# Test 1: Basic example from problem description\n",
        "lols = [[1, 'a', 50], [50, 101, -5], [25, 3.14]]\n",
        "assert extract_valid_data(lols, max_val=100) == [-5, 1, 25, 50], 'Basic test failed'\n",
        "\n",
        "# Test 2: Default max value (10)\n",
        "data1 = [[1, 5, 15], [8, 12, 3], [5, 9, 10]]\n",
        "assert extract_valid_data(data1) == [1, 3, 5, 8, 9], 'Default max_val=10 test failed'\n",
        "\n",
        "# Test 3: No valid integers (all exceed max)\n",
        "data2 = [[100, 200], [150, 300]]\n",
        "assert extract_valid_data(data2, max_val=50) == [], 'No valid integers test failed'\n",
        "\n",
        "# Test 4: Duplicates should be removed\n",
        "data3 = [[1, 2, 3], [2, 3, 4], [3, 4, 5]]\n",
        "assert extract_valid_data(data3, max_val=10) == [1, 2, 3, 4, 5], 'Duplicate removal test failed'\n",
        "\n",
        "# Test 5: Mixed types - only integers should be included\n",
        "data4 = [[1, 2.0, '3'], [4.5, 5, 'six'], [7.0, 8, 9.9]]\n",
        "assert extract_valid_data(data4, max_val=10) == [1, 5, 8], 'Type filtering test failed'\n",
        "\n",
        "# Test 6: Negative numbers\n",
        "data5 = [[-5, -3, -1], [0, 1, 2]]\n",
        "assert extract_valid_data(data5, max_val=3) == [-5, -3, -1, 0, 1, 2], 'Negative numbers test failed'\n",
        "\n",
        "# Test 7: Single element sublists\n",
        "data6 = [[1], [2], [3], [2], [1]]\n",
        "assert extract_valid_data(data6, max_val=5) == [1, 2, 3], 'Single element test failed'\n",
        "\n",
        "# Test 8: Large max value\n",
        "data7 = [[1, 100, 1000], [50, 500, 5000]]\n",
        "assert extract_valid_data(data7, max_val=10000) == [1, 50, 100, 500, 1000, 5000], (\n",
        "    'Large max test failed'\n",
        ")\n",
        "\n",
        "# Test 9: Boundary case - values equal to max should be excluded\n",
        "data8 = [[8, 9, 10, 11], [10, 10, 10]]\n",
        "assert extract_valid_data(data8, max_val=10) == [8, 9], 'Boundary test failed (max_val=10)'\n",
        "\n",
        "print('All tests passed!')"
      ]
    },
    {
      "cell_type": "markdown",
      "id": "34",
      "metadata": {
        "id": "34"
      },
      "source": [
        "#### Interpretation"
      ]
    },
    {
      "cell_type": "markdown",
      "id": "35",
      "metadata": {
        "id": "35"
      },
      "source": [
        "Add a text / markdown cell below to explain how the test code works. In particular, what does `assert` do here? Are you surprised by the number of tests required to fully check the solution?"
      ]
    },
    {
      "cell_type": "markdown",
      "id": "36",
      "metadata": {
        "id": "36"
      },
      "source": [
        "#### Follow-Up (Graduate Students)"
      ]
    },
    {
      "cell_type": "markdown",
      "id": "37",
      "metadata": {
        "id": "37"
      },
      "source": [
        "This part is for grad students only.\n",
        "\n",
        "Rewrite this function as a single list comprehension.\n",
        "\n",
        "Is the result more or less easy to read than your original implementation? What does this tell you about when comprehensions are best used, in practice?"
      ]
    },
    {
      "cell_type": "code",
      "execution_count": 1,
      "id": "38",
      "metadata": {
        "id": "38"
      },
      "outputs": [],
      "source": [
        "def extract_valid_data(lists, max_val=10):\n",
        "    return sorted(\n",
        "        set(\n",
        "            item\n",
        "            for sublist in lists\n",
        "            for item in sublist\n",
        "            if isinstance(item, int) and item < max_val\n",
        "        )\n",
        "    )"
      ]
    },
    {
      "cell_type": "markdown",
      "id": "39",
      "metadata": {
        "id": "39"
      },
      "source": [
        "### Data Cleaning"
      ]
    },
    {
      "cell_type": "markdown",
      "id": "40",
      "metadata": {
        "id": "40"
      },
      "source": [
        "Create a function, `clean_record`, that takes a dictionary and returns a cleaned version of the same. Each `dict` consists of four key:value pairs. All keys are strings and the expected type of each value is specified below:\n",
        "\n",
        "- 'name': str\n",
        "- 'age': int\n",
        "- 'email': str\n",
        "- 'score': float\n",
        "\n",
        "To clean each record, your function should:\n",
        "\n",
        "- convert all keys to lowercase\n",
        "- convert all age and score values to integer or float values, as specified\n",
        "- validate that age is positive and less than 100, if not, replace value with `None` and print a warning message\n",
        "- round score to a single digit of precision using `round(val, 1)`\n",
        "- convert name to \"Last, First\" format\n",
        "  - you can assume that all names come in \"First Middle Last\" format, but middle is optional\n",
        "  - you can also assume that the names will not include titles (e.g. \"Dr.\", suffixes (e.g. \"Jr.\"), multi-word last names (e.g. \"Van Buren\"), etc.\n",
        "- return the cleaned version\n",
        "\n",
        "Note: Python's `round` function uses Banker's Rounding, which can lead to unexpected results. See [this article for additional background / details](https://medium.com/@akhilnathe/understanding-pythons-round-function-from-basics-to-bankers-b64e7dd73477).\n",
        "\n",
        "You may assume there are no missing keys in the data.\n",
        "\n",
        "Write your function in the cell below."
      ]
    },
    {
      "cell_type": "code",
      "execution_count": null,
      "id": "41",
      "metadata": {
        "id": "41"
      },
      "outputs": [],
      "source": [
        "def clean_record(record): ..."
      ]
    },
    {
      "cell_type": "markdown",
      "id": "42",
      "metadata": {
        "id": "42"
      },
      "source": [
        "#### Solution"
      ]
    },
    {
      "cell_type": "code",
      "execution_count": 3,
      "id": "43",
      "metadata": {
        "id": "43"
      },
      "outputs": [],
      "source": [
        "def clean_record(record):\n",
        "    cleaned = {}\n",
        "\n",
        "    # Process each key-value pair\n",
        "    for key, value in record.items():\n",
        "        key_lower = key.lower()\n",
        "\n",
        "        if key_lower == 'name':\n",
        "            # Convert \"First [Middle] Last\" to \"Last, First\"\n",
        "            name_parts = str(value).strip().split()\n",
        "            cleaned['name'] = f'{name_parts[-1]}, {name_parts[0]}'\n",
        "\n",
        "        elif key_lower == 'age':\n",
        "            # Convert to int and validate\n",
        "            age_val = int(value)\n",
        "            if 0 < age_val < 100:\n",
        "                cleaned['age'] = age_val\n",
        "            else:\n",
        "                print(f'Invalid age: {age_val}. Age must be positive and less than 100.')\n",
        "                cleaned['age'] = None\n",
        "\n",
        "        elif key_lower == 'email':\n",
        "            # Keep email as string\n",
        "            cleaned['email'] = str(value)\n",
        "\n",
        "        elif key_lower == 'score':\n",
        "            # Convert to float and round to 1 decimal place\n",
        "            score_val = float(value)\n",
        "            cleaned['score'] = round(score_val, 1)\n",
        "\n",
        "    return cleaned"
      ]
    },
    {
      "cell_type": "markdown",
      "id": "44",
      "metadata": {
        "id": "44"
      },
      "source": [
        "#### Tests"
      ]
    },
    {
      "cell_type": "markdown",
      "id": "45",
      "metadata": {
        "id": "45"
      },
      "source": [
        "Run the code below to test your implementation. If an error is detected (the output doesn't match the expected value for any of the 8 tests), use the information provided to correct your function definition.\n",
        "\n",
        "**You must run the cell above each time you make changes to it (to create the function definition) before running these tests.**"
      ]
    },
    {
      "cell_type": "code",
      "execution_count": 5,
      "id": "46",
      "metadata": {
        "id": "46",
        "outputId": "8931aac7-76d0-40b1-92f4-ebcfeace1a8b",
        "colab": {
          "base_uri": "https://localhost:8080/"
        }
      },
      "outputs": [
        {
          "output_type": "stream",
          "name": "stdout",
          "text": [
            "Invalid age: 150. Age must be positive and less than 100.\n",
            "All tests pass!\n"
          ]
        }
      ],
      "source": [
        "### DO NOT CHANGE THE CODE IN THIS CELL\n",
        "\n",
        "# Test data for clean_records function\n",
        "\n",
        "test_input = [\n",
        "    {\n",
        "        'name': 'John Doe',\n",
        "        'age': '25',\n",
        "        'email': 'john@email.com',\n",
        "        'score': '87.456',\n",
        "    },\n",
        "    {\n",
        "        'NAME': 'Mary Jane Smith',\n",
        "        'AGE': '30',\n",
        "        'EMAIL': 'mj@email.com',\n",
        "        'SCORE': '92.149',\n",
        "    },\n",
        "    {\n",
        "        'Name': 'Bob Wilson',\n",
        "        'Age': 42,\n",
        "        'Email': 'bob@test.com',\n",
        "        'Score': 81.951,\n",
        "    },\n",
        "    {\n",
        "        'name': 'Anna Chen',\n",
        "        'age': '1',\n",
        "        'email': 'anna@email.com',\n",
        "        'score': '95.678',\n",
        "    },\n",
        "    {\n",
        "        'name': 'Senior Citizen',\n",
        "        'age': '99',\n",
        "        'email': 'senior@test.com',\n",
        "        'score': 73.2,\n",
        "    },\n",
        "    {\n",
        "        'NAME': 'Charlie Brown',\n",
        "        'AGE': 19,\n",
        "        'EMAIL': 'charlie@test.com',\n",
        "        'SCORE': '90.5',\n",
        "    },\n",
        "    {\n",
        "        'name': 'Jennifer Anne Marie Thompson',\n",
        "        'age': '31',\n",
        "        'email': 'jamt@email.com',\n",
        "        'score': '88.8',\n",
        "    },\n",
        "    {\n",
        "        'Name': 'Carlos Rodriguez',\n",
        "        'Age': '28',\n",
        "        'Email': 'carlos@email.com',\n",
        "        'Score': 100,\n",
        "    },\n",
        "    {\n",
        "        'name': 'Invalid Age',\n",
        "        'age': '150',\n",
        "        'email': 'invalid@test.com',\n",
        "        'score': '80.0',\n",
        "    },\n",
        "]\n",
        "\n",
        "test_expected = [\n",
        "    {'name': 'Doe, John', 'age': 25, 'email': 'john@email.com', 'score': 87.5},\n",
        "    {'name': 'Smith, Mary', 'age': 30, 'email': 'mj@email.com', 'score': 92.1},\n",
        "    {'name': 'Wilson, Bob', 'age': 42, 'email': 'bob@test.com', 'score': 82.0},\n",
        "    {'name': 'Chen, Anna', 'age': 1, 'email': 'anna@email.com', 'score': 95.7},\n",
        "    {'name': 'Citizen, Senior', 'age': 99, 'email': 'senior@test.com', 'score': 73.2},\n",
        "    {'name': 'Brown, Charlie', 'age': 19, 'email': 'charlie@test.com', 'score': 90.5},\n",
        "    {'name': 'Thompson, Jennifer', 'age': 31, 'email': 'jamt@email.com', 'score': 88.8},\n",
        "    {'name': 'Rodriguez, Carlos', 'age': 28, 'email': 'carlos@email.com', 'score': 100.0},\n",
        "    {'name': 'Age, Invalid', 'age': None, 'email': 'invalid@test.com', 'score': 80.0},\n",
        "]\n",
        "\n",
        "# run tests to ensure output matches expected for each given input\n",
        "\n",
        "for idx, data in enumerate(test_input):\n",
        "    expected = test_expected[idx]\n",
        "    actual = clean_record(data)\n",
        "\n",
        "    # Check if dictionaries match\n",
        "    if actual != expected:\n",
        "        # Find which fields don't match\n",
        "        for key in expected:\n",
        "            if actual.get(key) != expected[key]:\n",
        "                assert False, (\n",
        "                    f\"Test {idx + 1} failed on field '{key}': expected {expected[key]}, got {actual.get(key)}\"\n",
        "                )\n",
        "\n",
        "print('All tests pass!')"
      ]
    },
    {
      "cell_type": "markdown",
      "id": "47",
      "metadata": {
        "id": "47"
      },
      "source": [
        "#### Interpretation"
      ]
    },
    {
      "cell_type": "markdown",
      "id": "48",
      "metadata": {
        "id": "48"
      },
      "source": [
        "Add a text / markdown cell below to explain how the test code works. In particular, look up the `enumerate` function and `dict.get()` method. Consider how the equivalent would be written without them - how do those features simplify this implementation?\n",
        "\n",
        "Also, what does `assert` do here and how else could it be in other testing situations?"
      ]
    },
    {
      "cell_type": "markdown",
      "id": "49",
      "metadata": {
        "id": "49"
      },
      "source": [
        "#### Follow-Up (Graduate Students)"
      ]
    },
    {
      "cell_type": "markdown",
      "id": "50",
      "metadata": {
        "id": "50"
      },
      "source": [
        "This part is for grad students only.\n",
        "\n",
        "Explain in a text / markdown cell below how your approach would have to change if you could not assume each record was complete (all four keys present).\n",
        "\n",
        "Sketch out the code change required. You can include (non-running) code blocks in markdown cells as shown below (edit this cell to see the formatting). This does not have to run, it is for communication purposes only.\n",
        "\n",
        "```python\n",
        "# code blocks are denoted in markdown with three backticks before and after\n",
        "print(\"This is a markdown code block.\")\n",
        "```"
      ]
    },
    {
      "cell_type": "markdown",
      "id": "51",
      "metadata": {
        "id": "51"
      },
      "source": [
        "### Implement a Simplified `zip()`"
      ]
    },
    {
      "cell_type": "markdown",
      "id": "52",
      "metadata": {
        "id": "52"
      },
      "source": [
        "Create a function, `simple_zip` that emulates some functionality of the `zip` function included with base Python:\n",
        "\n",
        "```bash\n",
        "> help(zip)\n",
        "Help on class zip in module builtins:\n",
        "\n",
        "class zip(object)\n",
        " |  zip(*iterables, strict=False)\n",
        " |\n",
        " |  The zip object yields n-length tuples, where n is the number of iterables\n",
        " |  passed as positional arguments to zip().  The i-th element in every tuple\n",
        " |  comes from the i-th iterable argument to zip().  This continues until the\n",
        " |  shortest argument is exhausted.\n",
        " |\n",
        " |  If strict is true and one of the arguments is exhausted before the others,\n",
        " |  raise a ValueError.\n",
        " |\n",
        " |     >>> list(zip('abcdefg', range(3), range(4)))\n",
        " |     [('a', 0, 0), ('b', 1, 1), ('c', 2, 2)]\n",
        "```\n",
        "\n",
        "Python's version creates a *generator* object that produces values as needed rather than all at once. Your solution should return a list of tuples instead. For example, the following function call:\n",
        "\n",
        "```python\n",
        "it1 = [1, 2, 3]\n",
        "it2 = ['a', 'b', 'c']\n",
        "simple_zip(it1, it2)\n",
        "```\n",
        "\n",
        "should return\n",
        "\n",
        "```python\n",
        "[(1, 'a'), (2, 'b'), (3, 'c')]\n",
        "```\n",
        "\n",
        "Do not implement the `strict` argument. Instead, emulate the default behavior of `zip`: if the iterables are of differing lengths, stop when the shortest one is exhausted.\n",
        "\n",
        "Note that the first argument in `zip` is `*iterables`, allowing it to accept any number of iterables. When you use `*VARIABLE_NAME` in this fashion, Python automatically collects all the positional arguments into a tuple called `VARIABLE_NAME` (e.g. `iterables`). It is your responsibility to extract individual arguments from the resulting tuple. The following code block demonstrates this for clarity."
      ]
    },
    {
      "cell_type": "code",
      "execution_count": null,
      "id": "53",
      "metadata": {
        "id": "53"
      },
      "outputs": [],
      "source": [
        "def example(*vars):\n",
        "    # return vars as constructed by Python from the user's arguments\n",
        "    return vars\n",
        "\n",
        "\n",
        "var1 = 'first argument'\n",
        "var2 = 'second argument'\n",
        "result = example(var1, var2)\n",
        "\n",
        "# inspect results\n",
        "print(result)  # ('first argument', 'second argument')\n",
        "print(result[0])  # 'first argument'"
      ]
    },
    {
      "cell_type": "markdown",
      "id": "54",
      "metadata": {
        "id": "54"
      },
      "source": [
        "Write your function in the cell below."
      ]
    },
    {
      "cell_type": "code",
      "execution_count": null,
      "id": "55",
      "metadata": {
        "id": "55"
      },
      "outputs": [],
      "source": [
        "def simple_zip(*iterables): ..."
      ]
    },
    {
      "cell_type": "markdown",
      "id": "56",
      "metadata": {
        "id": "56"
      },
      "source": [
        "#### Solution"
      ]
    },
    {
      "cell_type": "code",
      "execution_count": null,
      "id": "57",
      "metadata": {
        "id": "57"
      },
      "outputs": [],
      "source": [
        "def simple_zip(*iterables):\n",
        "    \"\"\"Recreate a simplified version of Python's zip function (returns a list).\"\"\"\n",
        "\n",
        "    # Convert all iterables to lists to access by index\n",
        "    lists = []\n",
        "    for iterable in iterables:\n",
        "        lists.append(list(iterable))\n",
        "\n",
        "    min_length = len(lists[0])\n",
        "    for lst in lists:\n",
        "        if len(lst) < min_length:\n",
        "            min_length = len(lst)\n",
        "\n",
        "    # Build the result\n",
        "    result = []\n",
        "    for i in range(min_length):\n",
        "        # Build tuple for position i\n",
        "        current_tuple = []\n",
        "        for lst in lists:\n",
        "            current_tuple.append(lst[i])\n",
        "        result.append(tuple(current_tuple))\n",
        "\n",
        "    return result"
      ]
    },
    {
      "cell_type": "markdown",
      "id": "58",
      "metadata": {
        "id": "58"
      },
      "source": [
        "#### Tests"
      ]
    },
    {
      "cell_type": "markdown",
      "id": "59",
      "metadata": {
        "id": "59"
      },
      "source": [
        "Run the code below to test your implementation. If an error is detected, use the information provided to correct your function definition.\n",
        "\n",
        "**You must run the cell above each time you make changes to it (to create the function definition) before running these tests.**"
      ]
    },
    {
      "cell_type": "code",
      "execution_count": null,
      "id": "60",
      "metadata": {
        "id": "60"
      },
      "outputs": [],
      "source": [
        "# Basic test cases\n",
        "assert simple_zip([1, 2], ['a', 'b']) == [(1, 'a'), (2, 'b')], 'Basic test failed'\n",
        "assert simple_zip([1, 2, 3], ['a', 'b']) == [(1, 'a'), (2, 'b')], \"Doesn't stop at shortest\"\n",
        "\n",
        "# Multiple iterables\n",
        "assert simple_zip([1, 2], ['a', 'b'], [10, 20]) == [(1, 'a', 10), (2, 'b', 20)], (\n",
        "    \"Doesn't handle >2 iterables\"\n",
        ")\n",
        "\n",
        "# Different types of iterables\n",
        "assert simple_zip('abc', [1, 2, 3]) == [('a', 1), ('b', 2), ('c', 3)], \"Doesn't handle mixed types\"\n",
        "assert simple_zip(range(3), 'xyz') == [(0, 'x'), (1, 'y'), (2, 'z')], (\n",
        "    \"Doesn't handle other iterable types\"\n",
        ")\n",
        "\n",
        "print('All tests passed!')"
      ]
    },
    {
      "cell_type": "markdown",
      "id": "61",
      "metadata": {
        "id": "61"
      },
      "source": [
        "#### Interpretation"
      ]
    },
    {
      "cell_type": "markdown",
      "id": "62",
      "metadata": {
        "id": "62"
      },
      "source": [
        "Add a text / markdown cell below to discuss how you might make your code more concise and/or readable by using list comprehensions. If you already used them in your solution, describe why you chose that approach.\n",
        "\n",
        "Also, what tests have we overlooked? What are we assuming about the input that might cause a crash when this function is called?"
      ]
    },
    {
      "cell_type": "markdown",
      "id": "63",
      "metadata": {
        "id": "63"
      },
      "source": [
        "#### Follow-Up (Graduate Students)"
      ]
    },
    {
      "cell_type": "markdown",
      "id": "64",
      "metadata": {
        "id": "64"
      },
      "source": [
        "Read more about [generator objects](https://realpython.com/introduction-to-python-generators/). Then run the following code, noting the included comments."
      ]
    },
    {
      "cell_type": "code",
      "execution_count": null,
      "id": "65",
      "metadata": {
        "id": "65"
      },
      "outputs": [],
      "source": [
        "# Python's built-in zip returns a generator-like object\n",
        "result1 = zip([1, 2, 3], ['a', 'b', 'c'])\n",
        "print(result1)  # What do you see?\n",
        "print(list(result1))  # Convert to list\n",
        "print(list(result1))  # Try again - what happens?\n",
        "\n",
        "# Your simple_zip returns a list\n",
        "result2 = simple_zip([1, 2, 3], ['a', 'b', 'c'])\n",
        "print(result2)  # What do you see?\n",
        "print(result2)  # Try again - what happens?"
      ]
    },
    {
      "cell_type": "markdown",
      "id": "66",
      "metadata": {
        "id": "66"
      },
      "source": [
        "Based on your reading and the code above:\n",
        "\n",
        "- What's the key difference between a generator and a list?\n",
        "- Why might Python's zip return a generator instead of a list?\n",
        "- Name one advantage and one disadvantage of generators vs lists."
      ]
    },
    {
      "cell_type": "markdown",
      "id": "67",
      "metadata": {
        "id": "67"
      },
      "source": [
        "## Reflection"
      ]
    },
    {
      "cell_type": "markdown",
      "id": "68",
      "metadata": {
        "id": "68"
      },
      "source": [
        "Address the following (concise bullets or short paragraphs are fine):\n",
        "\n",
        "1. Key takeaway\n",
        "   - What part of this assignment most surprised you or led to the most significant improvement in your Python understanding?\n",
        "   - Include a concrete before/after to illustrate how this assignment has changed your approach to problem solving, syntax, styling, or other implementational details as a result of this assignment.\n",
        "2. GenAI use\n",
        "   - If used, specify the tool / model used, how you used it, how you verified correctness, and how it was most helpful (breadth / depth of understanding, quality of code, time to completion, etc.). Note any limits or problems you observed and how you mitigated them.\n",
        "   - If not, why and when do you expect to use it in this course, if at all?\n",
        "3. Feedback\n",
        "   - Approximately how much time did you spend on this assignment?\n",
        "   - What was the most difficult part?\n",
        "   - How would you improve it?\n",
        "   - Anything else you want to share or ask?"
      ]
    },
    {
      "cell_type": "markdown",
      "id": "69",
      "metadata": {
        "id": "69"
      },
      "source": []
    }
  ],
  "metadata": {
    "kernelspec": {
      "display_name": "INSY6500-Py4EDA",
      "language": "python",
      "name": "insy6500-py4eda"
    },
    "language_info": {
      "codemirror_mode": {
        "name": "ipython",
        "version": 3
      },
      "file_extension": ".py",
      "mimetype": "text/x-python",
      "name": "python",
      "nbconvert_exporter": "python",
      "pygments_lexer": "ipython3",
      "version": "3.13.5"
    },
    "colab": {
      "provenance": []
    }
  },
  "nbformat": 4,
  "nbformat_minor": 5
}